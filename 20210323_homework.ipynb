{
  "nbformat": 4,
  "nbformat_minor": 0,
  "metadata": {
    "colab": {
      "name": "Colaboratory에 오신 것을 환영합니다",
      "provenance": [],
      "collapsed_sections": [],
      "include_colab_link": true
    },
    "kernelspec": {
      "display_name": "Python 3",
      "name": "python3"
    }
  },
  "cells": [
    {
      "cell_type": "markdown",
      "metadata": {
        "id": "view-in-github",
        "colab_type": "text"
      },
      "source": [
        "<a href=\"https://colab.research.google.com/github/suumino/JS/blob/main/20210323_homework.ipynb\" target=\"_parent\"><img src=\"https://colab.research.google.com/assets/colab-badge.svg\" alt=\"Open In Colab\"/></a>"
      ]
    },
    {
      "cell_type": "code",
      "metadata": {
        "id": "xhgfwSDwR727",
        "outputId": "bf724379-686d-4906-8dde-24d68a271f02",
        "colab": {
          "base_uri": "https://localhost:8080/"
        }
      },
      "source": [
        "# ALGORITHM HOMEWORK_2\n",
        "\n",
        "n = int(input(\"숫자를 입력하세요 : \"))   # 숫자 입력 받음 \n",
        "a = 0                                    # a = 0\n",
        "b = 1                                    # b = 0\n",
        "for i in range(n):                       # i 가 n 보다 작을 동안\n",
        "  if (a + b) <= n:                       # 만약 a + b가 입력받은 숫자보다 작다면\n",
        "    print(a + b, end=' ')                # a + b 를 출력하세요\n",
        "    if i % 2 == 1:                       # 만약 수가 홀수라면\n",
        "      a += b                             # a 에 a + b 를 새로 대입하세요\n",
        "    else:                                # 짝수라면\n",
        "      b += a                             # b 에 a + b 를 새로 대입하세요\n"
      ],
      "execution_count": 14,
      "outputs": [
        {
          "output_type": "stream",
          "text": [
            "숫자를 입력하세요 : 13\n",
            "1 1 2 3 5 8 13 "
          ],
          "name": "stdout"
        }
      ]
    },
    {
      "cell_type": "code",
      "metadata": {
        "id": "IR6sq1ydTKLR",
        "outputId": "76255f56-5827-4b7d-d3ef-2f235b1d499d",
        "colab": {
          "base_uri": "https://localhost:8080/"
        }
      },
      "source": [
        ""
      ],
      "execution_count": 18,
      "outputs": [
        {
          "output_type": "stream",
          "text": [
            "숫자를 입력하세요 : 13\n",
            "1 "
          ],
          "name": "stdout"
        }
      ]
    },
    {
      "cell_type": "code",
      "metadata": {
        "id": "DEqUSfJLY0q3"
      },
      "source": [
        ""
      ],
      "execution_count": null,
      "outputs": []
    },
    {
      "cell_type": "code",
      "metadata": {
        "id": "BFu0gfsuYHGw"
      },
      "source": [
        ""
      ],
      "execution_count": null,
      "outputs": []
    }
  ]
}